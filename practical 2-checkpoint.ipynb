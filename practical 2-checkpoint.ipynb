{
 "cells": [
  {
   "cell_type": "code",
   "execution_count": 1,
   "id": "f89fd057-89b6-4665-9f24-06104795d662",
   "metadata": {},
   "outputs": [
    {
     "name": "stdout",
     "output_type": "stream",
     "text": [
      "+-------------+\n",
      "|LEE CHONG WEI|\n",
      "+-------------+\n"
     ]
    }
   ],
   "source": [
    "print(\"+-------------+\")\n",
    "print(\"|LEE CHONG WEI|\")\n",
    "print(\"+-------------+\")"
   ]
  },
  {
   "cell_type": "code",
   "execution_count": 4,
   "id": "00ee0122-89b4-4a1b-8573-8854aca5f074",
   "metadata": {},
   "outputs": [
    {
     "name": "stdout",
     "output_type": "stream",
     "text": [
      "  //////\n",
      " | ° ° |\n",
      "(|  ^  |)\n",
      " | [_] |\n",
      "  -----\n"
     ]
    }
   ],
   "source": [
    "print(\"  //////\")\n",
    "print(\" | ° ° |\")\n",
    "print(\"(|  ^  |)\")\n",
    "print(\" | [_] |\")\n",
    "print(\"  -----\")"
   ]
  },
  {
   "cell_type": "code",
   "execution_count": 6,
   "id": "c7b375bb-9d8e-444a-8cbe-0dd5ae24c356",
   "metadata": {},
   "outputs": [
    {
     "name": "stdout",
     "output_type": "stream",
     "text": [
      "FFFFFFF   U       U    NN      NN\n",
      "FF        U       U    NN N    NN\n",
      "FFFFFFF   U       U    NN  N   NN\n",
      "FF         U     U     NN   N  NN\n",
      "FF           UUU       NN     NNN\n"
     ]
    }
   ],
   "source": [
    "print(\"FFFFFFF   U       U    NN      NN\")\n",
    "print(\"FF        U       U    NN N    NN\")\n",
    "print(\"FFFFFFF   U       U    NN  N   NN\")\n",
    "print(\"FF         U     U     NN   N  NN\")\n",
    "print(\"FF           UUU       NN     NNN\")"
   ]
  },
  {
   "cell_type": "code",
   "execution_count": 8,
   "id": "d58ef6a0-605b-4ae8-b218-184f91bf73ae",
   "metadata": {},
   "outputs": [
    {
     "name": "stdout",
     "output_type": "stream",
     "text": [
      "+---+---+---+\n",
      "| X |   | O |\n",
      "+---+---+---+\n",
      "|   | X | O |\n",
      "+---+---+---+\n",
      "|   |   | O |\n",
      "+---+---+---+\n"
     ]
    }
   ],
   "source": [
    "print(\"+---+---+---+\")\n",
    "print(\"| X |   | O |\")\n",
    "print(\"+---+---+---+\")\n",
    "print(\"|   | X | O |\")\n",
    "print(\"+---+---+---+\")\n",
    "print(\"|   |   | O |\")\n",
    "print(\"+---+---+---+\")"
   ]
  },
  {
   "cell_type": "code",
   "execution_count": 10,
   "id": "71848d98-de00-4604-a5a9-c333326f2b4e",
   "metadata": {},
   "outputs": [
    {
     "name": "stdout",
     "output_type": "stream",
     "text": [
      "x\tx^2\tx^3\n",
      "1\t1\t1\n",
      "2\t4\t8\n",
      "3\t9\t27\n",
      "4\t16\t64\n"
     ]
    }
   ],
   "source": [
    "print(\"x\" + \"\\t\" + \"x^2\" + \"\\t\" + \"x^3\")\n",
    "x=1\n",
    "print(str(x) + \"\\t\" + str(pow(x,2)) + \"\\t\" + str(pow(x,3)))\n",
    "x=2\n",
    "print(str(x) + \"\\t\" + str(pow(x,2)) + \"\\t\" + str(pow(x,3)))\n",
    "x=3\n",
    "print(str(x) + \"\\t\" + str(pow(x,2)) + \"\\t\" + str(pow(x,3)))\n",
    "x=4\n",
    "print(str(x) + \"\\t\" + str(pow(x,2)) + \"\\t\" + str(pow(x,3)))"
   ]
  },
  {
   "cell_type": "code",
   "execution_count": 12,
   "id": "c1c3e39e-1947-4bf6-9428-1c5344104c9c",
   "metadata": {},
   "outputs": [
    {
     "name": "stdout",
     "output_type": "stream",
     "text": [
      "0.9980158730158729\n"
     ]
    }
   ],
   "source": [
    "result = (((9.5*4.5)-(2.5/3))/(45.5-3.5))\n",
    "print(result)"
   ]
  },
  {
   "cell_type": "code",
   "execution_count": 17,
   "id": "0188c054-d09c-4870-9087-edb97bead023",
   "metadata": {},
   "outputs": [
    {
     "name": "stdin",
     "output_type": "stream",
     "text": [
      "Enter a name:  idfg\n",
      "Enter an age:  14981\n"
     ]
    },
    {
     "name": "stdout",
     "output_type": "stream",
     "text": [
      "idfg  is  14981  years old now. \n"
     ]
    }
   ],
   "source": [
    "name = str(input(\"Enter a name: \"))\n",
    "age = int(input(\"Enter an age: \"))\n",
    "\n",
    "print(name , \" is \" , age , \" years old now. \")"
   ]
  },
  {
   "cell_type": "code",
   "execution_count": 20,
   "id": "f7d64d92-6f45-45af-ad27-470a9b094448",
   "metadata": {},
   "outputs": [
    {
     "name": "stdin",
     "output_type": "stream",
     "text": [
      "Enter a degree in Celsius:  61464\n"
     ]
    },
    {
     "name": "stdout",
     "output_type": "stream",
     "text": [
      "61464 Celsius is  110667.2 Fahrenheit\n"
     ]
    }
   ],
   "source": [
    "c = int(input(\"Enter a degree in Celsius: \"))\n",
    "f = ((9/5) * c + 32)\n",
    "\n",
    "print(c , \" Celsius is \" , f , \" Fahrenheit.\")"
   ]
  },
  {
   "cell_type": "code",
   "execution_count": 22,
   "id": "2739d452-9181-40dd-92f3-28c39656dea7",
   "metadata": {},
   "outputs": [
    {
     "name": "stdin",
     "output_type": "stream",
     "text": [
      "Enter a radius of a cylinder:  3\n",
      "Enter a height of a cylinder:  5\n"
     ]
    },
    {
     "name": "stdout",
     "output_type": "stream",
     "text": [
      "Its surface area and volume are 150.79644737231007  and  141.3716694115407  respectively.\n"
     ]
    }
   ],
   "source": [
    "import math\n",
    "PI = math.pi\n",
    "\n",
    "r = int(input(\"Enter a radius of a cylinder: \"))\n",
    "h = int(input(\"Enter a height of a cylinder: \"))\n",
    "\n",
    "area = (2 * PI * r * h) + (2 * PI * pow(r,2))\n",
    "volume = (PI * pow(r,2) * h)\n",
    "\n",
    "print(\"Its surface area and volume are\" , area , \" and \" , volume , \" respectively.\")"
   ]
  },
  {
   "cell_type": "code",
   "execution_count": 44,
   "id": "c8b922ed-e9df-43ed-ad16-d5e3ce4b332e",
   "metadata": {},
   "outputs": [
    {
     "name": "stdin",
     "output_type": "stream",
     "text": [
      "Enter a number between 0 and 1000:  999\n"
     ]
    },
    {
     "name": "stdout",
     "output_type": "stream",
     "text": [
      "The sum of the digit is  27\n"
     ]
    }
   ],
   "source": [
    "num = int(input(\"Enter a number between 0 and 1000: \"))\n",
    "\n",
    "d_o = num % 10\n",
    "num = num // 10\n",
    "d_t = num % 10\n",
    "d_h = num % 10\n",
    "\n",
    "sum = d_o + d_t + d_h\n",
    "\n",
    "print(\"The sum of the digit is \" , sum)"
   ]
  },
  {
   "cell_type": "code",
   "execution_count": 43,
   "id": "e565dc68-8aa8-4c04-a3f5-ee21224fee04",
   "metadata": {},
   "outputs": [
    {
     "name": "stdin",
     "output_type": "stream",
     "text": [
      "Enter the monthly saving amount:  100\n"
     ]
    },
    {
     "name": "stdout",
     "output_type": "stream",
     "text": [
      "After the sixth month, the account value is 608.811017705596\n",
      "After the sixth month, the account value is 608.81\n"
     ]
    }
   ],
   "source": [
    "a_i = 0.05\n",
    "m_i = a_i / 12\n",
    "\n",
    "base = float(input(\"Enter the monthly saving amount: \"))\n",
    "\n",
    "total = base * (1 + m_i)\n",
    "total = (base + total) * (1 + m_i)\n",
    "total = (base + total) * (1 + m_i)\n",
    "total = (base + total) * (1 + m_i)\n",
    "total = (base + total) * (1 + m_i)\n",
    "total = (base + total) * (1 + m_i)\n",
    "\n",
    "print(\"After the sixth month, the account value is\" , total)\n",
    "print(\"After the sixth month, the account value is\" , (round(total,2)))"
   ]
  },
  {
   "cell_type": "code",
   "execution_count": 45,
   "id": "434d371d-2680-40fd-897f-bbca1a01f227",
   "metadata": {},
   "outputs": [
    {
     "name": "stdout",
     "output_type": "stream",
     "text": [
      "Equation 1: ax + by = e\n",
      "Equation 2: cx + dy = f\n",
      "\n"
     ]
    },
    {
     "name": "stdin",
     "output_type": "stream",
     "text": [
      "Enter value for a:  3.4\n",
      "Enter value for b:  50.2\n",
      "Enter value for e:  44.5\n",
      "Enter value for c:  2.1\n",
      "Enter value for d:  0.55\n",
      "Enter value for f:  5.9\n"
     ]
    },
    {
     "name": "stdout",
     "output_type": "stream",
     "text": [
      "\n",
      "Equation 1: 3.4x + 50.2y = 44.5\n",
      "Equation 2: 2.1x + 0.55y = 5.9\n",
      "\n",
      "x = 2.6239\n",
      "y = 0.7087\n"
     ]
    }
   ],
   "source": [
    "print(\"Equation 1: ax + by = e\")\n",
    "print(\"Equation 2: cx + dy = f\\n\")\n",
    "\n",
    "a = float(input(\"Enter value for a: \"))\n",
    "b = float(input(\"Enter value for b: \"))\n",
    "e = float(input(\"Enter value for e: \"))\n",
    "c = float(input(\"Enter value for c: \"))\n",
    "d = float(input(\"Enter value for d: \"))\n",
    "f = float(input(\"Enter value for f: \"))\n",
    "\n",
    "print(f\"\\nEquation 1: {a}x + {b}y = {e}\")\n",
    "print(f\"Equation 2: {c}x + {d}y = {f}\\n\")\n",
    "\n",
    "denominator = (a * d - b * c)\n",
    "\n",
    "if denominator == 0:\n",
    "    print(\"The system has no unique solution (denominator is zero).\")\n",
    "else:\n",
    "    x = (e * d - b * f) / denominator\n",
    "    y = (a * f - e * c) / denominator\n",
    "\n",
    "    print(f\"x = {x:.4f}\")\n",
    "    print(f\"y = {y:.4f}\")"
   ]
  },
  {
   "cell_type": "markdown",
   "id": "b9be0529-a163-45eb-a6ba-fd23a5538568",
   "metadata": {},
   "source": [
    "# Question 2"
   ]
  },
  {
   "cell_type": "markdown",
   "id": "ea2606e4-b58c-4b3c-84f7-869f21da6e74",
   "metadata": {},
   "source": [
    "# Question"
   ]
  },
  {
   "cell_type": "markdown",
   "id": "27616ec6-6fc2-45c5-a5e8-ec845a83d830",
   "metadata": {},
   "source": [
    "# Question 4"
   ]
  },
  {
   "cell_type": "code",
   "execution_count": null,
   "id": "94ff383c-650e-4d46-b934-4f34ad0dc431",
   "metadata": {},
   "outputs": [],
   "source": []
  },
  {
   "cell_type": "markdown",
   "id": "a8f15e39-bb3a-414c-9a6a-d842b2932ef8",
   "metadata": {},
   "source": [
    "# Question 1"
   ]
  }
 ],
 "metadata": {
  "kernelspec": {
   "display_name": "Python [conda env:base] *",
   "language": "python",
   "name": "conda-base-py"
  },
  "language_info": {
   "codemirror_mode": {
    "name": "ipython",
    "version": 3
   },
   "file_extension": ".py",
   "mimetype": "text/x-python",
   "name": "python",
   "nbconvert_exporter": "python",
   "pygments_lexer": "ipython3",
   "version": "3.12.7"
  }
 },
 "nbformat": 4,
 "nbformat_minor": 5
}
