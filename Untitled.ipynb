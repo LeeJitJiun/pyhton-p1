{
 "cells": [
  {
   "cell_type": "code",
   "execution_count": 10,
   "id": "3d62d27b-2d03-445d-9294-8c23e65c53e2",
   "metadata": {},
   "outputs": [
    {
     "name": "stdout",
     "output_type": "stream",
     "text": [
      "To test if 10000 elements are in the set\n",
      "--> The runtime is 1 milliseconds\n",
      "\n",
      "To test if 10000 elements are in the list\n",
      "--> The runtime is 294 milliseconds\n",
      "\n",
      "To remove 10000 elements are in the set\n",
      "--> The runtime is 0 milliseconds\n",
      "\n",
      "To remove 10000 elements are in the set\n",
      "--> The runtime is 175 milliseconds\n"
     ]
    }
   ],
   "source": [
    "import random\n",
    "import time\n",
    "\n",
    "Number_of_elements = 10000\n",
    "\n",
    "list_1 = list(range(Number_of_elements))\n",
    "random.shuffle(list_1)\n",
    "\n",
    "set_1 = set(list_1)\n",
    "\n",
    "start_time = time.time()\n",
    "for i in range(Number_of_elements):\n",
    "    i in set_1\n",
    "\n",
    "end_time = time.time()\n",
    "run_time = int((end_time - start_time) * 1000)\n",
    "print(\"To test if\", Number_of_elements, \"elements are in the set\")\n",
    "print(\"--> The runtime is\", run_time, \"milliseconds\")\n",
    "\n",
    "#-----------------------------------------------------------------------------------\n",
    "\n",
    "start_time = time.time()\n",
    "for i in range(Number_of_elements):\n",
    "    i in list_1\n",
    "\n",
    "end_time = time.time()\n",
    "run_time = int((end_time - start_time) * 1000)\n",
    "print(\"\\nTo test if\", Number_of_elements, \"elements are in the list\")\n",
    "print(\"--> The runtime is\", run_time, \"milliseconds\")\n",
    "\n",
    "#-----------------------------------------------------------------------------------\n",
    "\n",
    "start_time = time.time()\n",
    "for i in range(Number_of_elements):\n",
    "    set_1.remove(i)\n",
    "\n",
    "end_time = time.time()\n",
    "run_time = int((end_time - start_time) * 1000)\n",
    "print(\"\\nTo remove\", Number_of_elements, \"elements are in the set\")\n",
    "print(\"--> The runtime is\", run_time, \"milliseconds\")\n",
    "#-----------------------------------------------------------------------------------\n",
    "\n",
    "start_time = time.time()\n",
    "for i in range(Number_of_elements):\n",
    "    list_1.remove(i)\n",
    "\n",
    "end_time = time.time()\n",
    "run_time = int((end_time - start_time) * 1000)\n",
    "print(\"\\nTo remove\", Number_of_elements, \"elements are in the set\")\n",
    "print(\"--> The runtime is\", run_time, \"milliseconds\")"
   ]
  }
 ],
 "metadata": {
  "kernelspec": {
   "display_name": "Python [conda env:base] *",
   "language": "python",
   "name": "conda-base-py"
  },
  "language_info": {
   "codemirror_mode": {
    "name": "ipython",
    "version": 3
   },
   "file_extension": ".py",
   "mimetype": "text/x-python",
   "name": "python",
   "nbconvert_exporter": "python",
   "pygments_lexer": "ipython3",
   "version": "3.12.7"
  }
 },
 "nbformat": 4,
 "nbformat_minor": 5
}
